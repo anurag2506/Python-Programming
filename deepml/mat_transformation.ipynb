{
 "cells": [
  {
   "cell_type": "markdown",
   "id": "a586e5c1",
   "metadata": {},
   "source": [
    "Write a Python function that transforms a given matrix A using the operation \n",
    "`T^−1AS`, where T and S are invertible matrices. The function should first validate if the matrices T and S are invertible, and then perform the transformation. In cases where there is no solution return -1"
   ]
  },
  {
   "cell_type": "code",
   "execution_count": 1,
   "id": "312ccb45",
   "metadata": {},
   "outputs": [],
   "source": [
    "\n",
    "import numpy as np\n",
    "\n",
    "def transform_matrix(A: list[list[int|float]], T: list[list[int|float]], S: list[list[int|float]]) -> list[list[int|float]]:\n",
    "    T = np.array(T)\n",
    "    A = np.array(A)\n",
    "    S = np.array(S)\n",
    "    if(np.linalg.det(T) == 0 or np.linalg.det(S) == 0):\n",
    "        return -1\n",
    "    t_inv = np.linalg.inv(T)\n",
    "    prod1 = t_inv @ A\n",
    "    prod2 = prod1 @ S\n",
    "    transformed_matrix = prod2\n",
    "    return list(transformed_matrix)"
   ]
  },
  {
   "cell_type": "code",
   "execution_count": 5,
   "id": "32e49704",
   "metadata": {},
   "outputs": [],
   "source": [
    "A = [[1, 2], [3, 4]]\n",
    "T = [[2, 0], [0, 2]]\n",
    "S = [[1, 1], [0, 1]]\n"
   ]
  },
  {
   "cell_type": "code",
   "execution_count": 6,
   "id": "eae43ad8",
   "metadata": {},
   "outputs": [
    {
     "data": {
      "text/plain": [
       "[array([0.5, 1.5]), array([1.5, 3.5])]"
      ]
     },
     "execution_count": 6,
     "metadata": {},
     "output_type": "execute_result"
    }
   ],
   "source": [
    "transform_matrix(A,T,S)"
   ]
  },
  {
   "cell_type": "code",
   "execution_count": null,
   "id": "2d74e46b",
   "metadata": {},
   "outputs": [],
   "source": []
  }
 ],
 "metadata": {
  "kernelspec": {
   "display_name": "dl_proj",
   "language": "python",
   "name": "python3"
  },
  "language_info": {
   "codemirror_mode": {
    "name": "ipython",
    "version": 3
   },
   "file_extension": ".py",
   "mimetype": "text/x-python",
   "name": "python",
   "nbconvert_exporter": "python",
   "pygments_lexer": "ipython3",
   "version": "3.12.2"
  }
 },
 "nbformat": 4,
 "nbformat_minor": 5
}
