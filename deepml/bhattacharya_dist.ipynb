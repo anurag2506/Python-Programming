{
 "cells": [
  {
   "cell_type": "markdown",
   "id": "c2d5457a",
   "metadata": {},
   "source": [
    "Implement a function to calculate the Bhattacharyya distance between two probability distributions. \n",
    "\n",
    "The function should take two lists representing discrete probability distributions p and q, \n",
    "and return the Bhattacharyya distance rounded to 4 decimal places. <br>\n",
    "If the inputs have different lengths or are empty, return 0.0."
   ]
  },
  {
   "cell_type": "markdown",
   "id": "1051d7b3",
   "metadata": {},
   "source": [
    "#### Gives the distance between 2 distribtuons and thats why when we sample 2 tensors from the same distributions, we get the `coefficient=0 `. And `log(coefficient) = nan`"
   ]
  },
  {
   "cell_type": "code",
   "execution_count": 13,
   "id": "ae4b9be7",
   "metadata": {},
   "outputs": [],
   "source": [
    "p = [0.1, 0.2, 0.3, 0.4]\n",
    "q = [0.4, 0.3, 0.2, 0.1]"
   ]
  },
  {
   "cell_type": "markdown",
   "id": "c56fb8cf",
   "metadata": {},
   "source": [
    "``` The Bhattacharyya coefficient is calculated as the sum of element-wise square roots of the product of p and q, giving BC = 0.8898. The distance is then -log(0.8898) = 0.1166. ```"
   ]
  },
  {
   "cell_type": "code",
   "execution_count": 5,
   "id": "b1019882",
   "metadata": {},
   "outputs": [],
   "source": [
    "import numpy as np\n",
    "\n",
    "def bhattacharyya_distance(p: list[float], q: list[float]) -> float:\n",
    "    if(len(p)!=len(q)):\n",
    "        return  -1\n",
    "    p = np.array(p)\n",
    "    q = np.array(q)\n",
    "    coeff = np.sum(np.sqrt(p*q))\n",
    "    return -np.log(coeff)"
   ]
  },
  {
   "cell_type": "code",
   "execution_count": 6,
   "id": "b459eef3",
   "metadata": {},
   "outputs": [
    {
     "data": {
      "text/plain": [
       "0.11664848737353888"
      ]
     },
     "execution_count": 6,
     "metadata": {},
     "output_type": "execute_result"
    }
   ],
   "source": [
    "bhattacharyya_distance(p,q)"
   ]
  },
  {
   "cell_type": "code",
   "execution_count": 10,
   "id": "e0b702be",
   "metadata": {},
   "outputs": [],
   "source": [
    "import torch\n",
    "a = torch.rand((3,3))\n",
    "b = torch.rand((3,3))\n",
    "\n",
    "def bd(p:torch.tensor, q:torch.tensor):\n",
    "    c = torch.sum(torch.sqrt(p*q))\n",
    "    return -torch.log(c)"
   ]
  },
  {
   "cell_type": "code",
   "execution_count": 11,
   "id": "a388725d",
   "metadata": {},
   "outputs": [
    {
     "data": {
      "text/plain": [
       "tensor(-1.5064)"
      ]
     },
     "execution_count": 11,
     "metadata": {},
     "output_type": "execute_result"
    }
   ],
   "source": [
    "bd(a,b)"
   ]
  }
 ],
 "metadata": {
  "kernelspec": {
   "display_name": "dl_proj",
   "language": "python",
   "name": "python3"
  },
  "language_info": {
   "codemirror_mode": {
    "name": "ipython",
    "version": 3
   },
   "file_extension": ".py",
   "mimetype": "text/x-python",
   "name": "python",
   "nbconvert_exporter": "python",
   "pygments_lexer": "ipython3",
   "version": "3.12.2"
  }
 },
 "nbformat": 4,
 "nbformat_minor": 5
}
